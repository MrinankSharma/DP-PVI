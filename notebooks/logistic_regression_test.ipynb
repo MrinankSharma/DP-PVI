{
 "cells": [
  {
   "cell_type": "code",
   "execution_count": 153,
   "metadata": {},
   "outputs": [
    {
     "name": "stdout",
     "output_type": "stream",
     "text": [
      "['/Users/msharma/workspace/DP-PVI/notebooks', '/Users/msharma/.local/share/virtualenvs/DP-PVI-uFKN1QRX/lib/python37.zip', '/Users/msharma/.local/share/virtualenvs/DP-PVI-uFKN1QRX/lib/python3.7', '/Users/msharma/.local/share/virtualenvs/DP-PVI-uFKN1QRX/lib/python3.7/lib-dynload', '/usr/local/Cellar/python/3.7.4/Frameworks/Python.framework/Versions/3.7/lib/python3.7', '', '/Users/msharma/.local/share/virtualenvs/DP-PVI-uFKN1QRX/lib/python3.7/site-packages', '/Users/msharma/.local/share/virtualenvs/DP-PVI-uFKN1QRX/lib/python3.7/site-packages/IPython/extensions', '/Users/msharma/.ipython', '/Users/msharma/workspace/DP-PVI']\n",
      "The autoreload extension is already loaded. To reload it, use:\n",
      "  %reload_ext autoreload\n"
     ]
    }
   ],
   "source": [
    "# add files that we need!\n",
    "import os\n",
    "import sys\n",
    "\n",
    "module_path = os.path.abspath(os.path.join('..'))\n",
    "if module_path not in sys.path:\n",
    "    sys.path.append(module_path)\n",
    "print(sys.path)\n",
    "\n",
    "# autoreloading\n",
    "%load_ext autoreload\n",
    "%autoreload 2"
   ]
  },
  {
   "cell_type": "code",
   "execution_count": 166,
   "metadata": {},
   "outputs": [],
   "source": [
    "from src.model.logistic_regression_models import MeanFieldMultiDimensionalLogisticRegression\n",
    "import torch"
   ]
  },
  {
   "cell_type": "code",
   "execution_count": 167,
   "metadata": {},
   "outputs": [],
   "source": [
    "prior_mean = torch.tensor([1, 1], dtype=torch.float64)\n",
    "prior_var = torch.log(torch.tensor([[1, 0.5], [0.5, 1]], dtype=torch.float64))\n",
    "\n",
    "hyperparameters = {\n",
    "    \"prior_mu\": prior_mean,\n",
    "    \"prior_log_var_mat\": prior_var,\n",
    "}\n",
    "\n",
    "logRegressionModel = MeanFieldMultiDimensionalLogisticRegression(None, hyperparameters, 2)"
   ]
  },
  {
   "cell_type": "code",
   "execution_count": 209,
   "metadata": {},
   "outputs": [
    {
     "name": "stdout",
     "output_type": "stream",
     "text": [
      "tensor([-1.5900, -0.9238, -0.6224, -1.0022], dtype=torch.float64,\n",
      "       grad_fn=<AddBackward0>)\n"
     ]
    }
   ],
   "source": [
    "data_x = torch.tensor([[2, 2], [1, 1], [-1, -1], [-2, -2]], dtype=torch.float64)\n",
    "data_y = torch.tensor([1, 1, -1, -1], dtype=torch.float64)\n",
    "\n",
    "# run the network forwards and compute the stochastic elbo\n",
    "Y, act_mat = logRegressionModel.forward(data_x, 10)\n",
    "elbopp = logRegressionModel.compute_ELBO_loss_per_point(act_mat, data_y)\n",
    "print(elbopp)"
   ]
  },
  {
   "cell_type": "code",
   "execution_count": 212,
   "metadata": {},
   "outputs": [
    {
     "name": "stdout",
     "output_type": "stream",
     "text": [
      "tensor([14.6976, 13.9552], dtype=torch.float64)\n",
      "tensor([-3.0516, -3.0455], dtype=torch.float64)\n",
      "tensor([15.0718, 14.2940], dtype=torch.float64)\n",
      "tensor([-3.1563, -3.1505], dtype=torch.float64)\n",
      "tensor([15.4217, 14.6087], dtype=torch.float64)\n",
      "tensor([-3.1876, -3.1832], dtype=torch.float64)\n",
      "tensor([16.3616, 15.5131], dtype=torch.float64)\n",
      "tensor([-3.3381, -3.3332], dtype=torch.float64)\n"
     ]
    }
   ],
   "source": [
    "for i in range(4):\n",
    "    elbopp[i].backward(retain_graph=True)\n",
    "    params = logRegressionModel.get_parameters()\n",
    "    print(params[\"w_mu\"].grad)\n",
    "    print(params[\"w_log_var\"].grad)"
   ]
  },
  {
   "cell_type": "code",
   "execution_count": 115,
   "metadata": {},
   "outputs": [
    {
     "data": {
      "text/plain": [
       "tensor([[ 0.1441,  0.8793, -1.9183, -2.7773, -6.6147,  0.6691,  3.2370,  3.4455,\n",
       "         -0.3904,  1.3841],\n",
       "        [ 0.0721,  0.4396, -0.9591, -1.3886, -3.3074,  0.3346,  1.6185,  1.7228,\n",
       "         -0.1952,  0.6921],\n",
       "        [ 0.0540, -0.3136,  1.0852,  1.5147,  3.4334, -0.2085, -1.4925, -1.5967,\n",
       "          0.3212, -0.5660],\n",
       "        [ 0.1079, -0.6273,  2.1703,  3.0293,  6.8668, -0.4171, -2.9850, -3.1935,\n",
       "          0.6424, -1.1321]], dtype=torch.float64, grad_fn=<MulBackward0>)"
      ]
     },
     "execution_count": 115,
     "metadata": {},
     "output_type": "execute_result"
    }
   ],
   "source": []
  },
  {
   "cell_type": "code",
   "execution_count": 114,
   "metadata": {},
   "outputs": [
    {
     "data": {
      "text/plain": [
       "tensor([[ 0.1441,  0.8793, -1.9183, -2.7773, -6.6147,  0.6691,  3.2370,  3.4455,\n",
       "         -0.3904,  1.3841],\n",
       "        [ 0.0721,  0.4396, -0.9591, -1.3886, -3.3074,  0.3346,  1.6185,  1.7228,\n",
       "         -0.1952,  0.6921],\n",
       "        [-0.0540,  0.3136, -1.0852, -1.5147, -3.4334,  0.2085,  1.4925,  1.5967,\n",
       "         -0.3212,  0.5660],\n",
       "        [-0.1079,  0.6273, -2.1703, -3.0293, -6.8668,  0.4171,  2.9850,  3.1935,\n",
       "         -0.6424,  1.1321]], dtype=torch.float64, grad_fn=<AddBackward0>)"
      ]
     },
     "execution_count": 114,
     "metadata": {},
     "output_type": "execute_result"
    }
   ],
   "source": []
  },
  {
   "cell_type": "code",
   "execution_count": null,
   "metadata": {},
   "outputs": [],
   "source": []
  }
 ],
 "metadata": {
  "kernelspec": {
   "display_name": "Python 3",
   "language": "python",
   "name": "python3"
  },
  "language_info": {
   "codemirror_mode": {
    "name": "ipython",
    "version": 3
   },
   "file_extension": ".py",
   "mimetype": "text/x-python",
   "name": "python",
   "nbconvert_exporter": "python",
   "pygments_lexer": "ipython3",
   "version": "3.7.4"
  }
 },
 "nbformat": 4,
 "nbformat_minor": 4
}
