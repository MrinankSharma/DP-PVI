{
 "cells": [
  {
   "cell_type": "markdown",
   "metadata": {},
   "source": [
    "# Non-Private Centralized Logistic Regression"
   ]
  },
  {
   "cell_type": "code",
   "execution_count": 7,
   "metadata": {},
   "outputs": [],
   "source": [
    "# add files that we need!\n",
    "import os\n",
    "import sys\n",
    "import logging \n",
    "logger = logging.getLogger()\n",
    "\n",
    "module_path = os.path.abspath(os.path.join('..'))\n",
    "if module_path not in sys.path:\n",
    "    sys.path.append(module_path)"
   ]
  },
  {
   "cell_type": "code",
   "execution_count": 8,
   "metadata": {},
   "outputs": [],
   "source": [
    "from src.model.logistic_regression_models import MeanFieldMultiDimensionalLogisticRegression\n",
    "from src.privacy_accounting.optimizer.standard_optimizer import StandardOptimizer\n",
    "from src.privacy_accounting.analysis.moment_accountant import compute_privacy_loss_from_ledger\n",
    "\n",
    "\n",
    "import torch\n",
    "import torch.optim as optim\n",
    "\n",
    "import numpy as np\n",
    "\n",
    "import matplotlib.pyplot as plt\n",
    "import matplotlib as mpl\n",
    "mpl.rcParams['figure.dpi'] = 200\n",
    "\n",
    "# plotting\n",
    "%matplotlib inline"
   ]
  },
  {
   "cell_type": "code",
   "execution_count": 12,
   "metadata": {},
   "outputs": [],
   "source": [
    "prior_params = {\n",
    "    \"w_nat_mean\": np.array([0.0, 0.0], dtype=np.float32),\n",
    "    \"w_pres\": np.array([0.1, 0.1], dtype=np.float32) \n",
    "}\n",
    "\n",
    "# initally local likelihood is zero - init at the prior!\n",
    "current_params = prior_params \n",
    "\n",
    "hyperparameters = {\n",
    "    \"n_in\": 2,\n",
    "    \"N_samples\": 50,\n",
    "    \"N_steps\": 500,\n",
    "    \"base_optimizer_class\": optim.SGD,\n",
    "    \"base_optimizer_parameters\": {'lr': 0.02},\n",
    "    \"wrapped_optimizer_class\": StandardOptimizer,\n",
    "    \"wrapped_optimizer_parameters\": {},\n",
    "    \"batch_size\": 10\n",
    "}\n",
    "\n",
    "logRegressionModel = MeanFieldMultiDimensionalLogisticRegression(current_params, hyperparameters)"
   ]
  },
  {
   "cell_type": "code",
   "execution_count": 13,
   "metadata": {},
   "outputs": [],
   "source": [
    "data_x = np.array([[2, 2], [1, 1], [0, 1], [1, 0], [-0.5, 0.1], \n",
    "                       [-1, -1], [-2, -2], [0, -1], [-1, 0],\n",
    "                       [0.5, 0.1]], dtype=np.float32)\n",
    "data_y = np.array([1, 1, 1, 1, 1, -1, -1, -1, -1, -1], dtype=np.float32)\n",
    "\n",
    "def plot_results(data_x, data_y, opt_params):\n",
    "    x_vals = data_x[:, 0]\n",
    "    y_vals = data_x[:, 1]\n",
    "    labels = data_y\n",
    "    plt.figure()\n",
    "    plt.grid(b=True)\n",
    "    plt.scatter(x_vals, y_vals, c = labels)\n",
    "\n",
    "    w_map = opt_params['w_nat_mean']/opt_params['w_pres']\n",
    "    plt.arrow(0, 0, w_map[0], w_map[1], head_width=0.1)\n",
    "    plt.plot([-2, 2], [(w_map[0]/w_map[1])*2, (w_map[0]/w_map[1])*-2])\n",
    "    plt.show()\n",
    "    \n",
    "def plot_training(training_array):\n",
    "    x_vals = np.arange(1, training_array.size+1)\n",
    "    plt.figure()\n",
    "    plt.plot(x_vals, training_array)\n",
    "    plt.ylabel('ELBO Loss')\n",
    "    plt.xlabel('Step')\n",
    "    plt.show()\n",
    "     \n",
    "data = {\n",
    "    \"x\": data_x,\n",
    "    \"y\": data_y,\n",
    "}\n",
    "\n",
    "t = {\n",
    "    \"w_nat_mean\": np.array([0, 0]),\n",
    "    \"w_pres\": np.array([0, 0]) \n",
    "}\n"
   ]
  },
  {
   "cell_type": "code",
   "execution_count": 14,
   "metadata": {},
   "outputs": [],
   "source": [
    "opt_params = logRegressionModel.fit(data, t, prior_params, hyperparameters)"
   ]
  },
  {
   "cell_type": "code",
   "execution_count": 19,
   "metadata": {},
   "outputs": [
    {
     "name": "stdout",
     "output_type": "stream",
     "text": [
      "[1.2093844 3.1927102]\n"
     ]
    }
   ],
   "source": [
    "print(opt_params[\"w_nat_mean\"]/opt_params[\"w_pres\"])"
   ]
  },
  {
   "cell_type": "code",
   "execution_count": 15,
   "metadata": {},
   "outputs": [
    {
     "data": {
      "image/png": "[encoded data removed]",
      "text/plain": [
       "<Figure size 432x288 with 1 Axes>"
      ]
     },
     "metadata": {
      "needs_background": "light"
     },
     "output_type": "display_data"
    }
   ],
   "source": [
    "plot_training(logRegressionModel._training_curves[0])"
   ]
  },
  {
   "cell_type": "code",
   "execution_count": 7,
   "metadata": {},
   "outputs": [
    {
     "name": "stdout",
     "output_type": "stream",
     "text": [
      "{'w_nat_mean': array([0.8419114, 1.3272331], dtype=float32), 'w_pres': array([0.6998495 , 0.41640985], dtype=float32)}\n"
     ]
    },
    {
     "data": {
      "image/png": "[encoded data removed]",
      "text/plain": [
       "<Figure size 432x288 with 1 Axes>"
      ]
     },
     "metadata": {
      "needs_background": "light"
     },
     "output_type": "display_data"
    }
   ],
   "source": [
    "print(opt_params)\n",
    "plot_results(data_x, data_y, opt_params)"
   ]
  },
  {
   "cell_type": "markdown",
   "metadata": {},
   "source": [
    "## Let's use DP-SGD Instead!"
   ]
  },
  {
   "cell_type": "code",
   "execution_count": 8,
   "metadata": {},
   "outputs": [],
   "source": [
    "from src.privacy_accounting.optimizer.dp_optimizer import DPGaussianOptimizer\n",
    "from src.privacy_accounting.analysis import PrivacyLedger\n",
    "\n",
    "ledger = PrivacyLedger(data_x.shape[0], 1)\n",
    "\n",
    "hyperparameters = {\n",
    "    \"n_in\": 2,\n",
    "    \"N_samples\": 100,\n",
    "    \"N_steps\": 10,\n",
    "    \"base_optimizer_class\": optim.SGD,\n",
    "    \"base_optimizer_parameters\": {'lr': 0.01},\n",
    "    \"wrapped_optimizer_class\": DPGaussianOptimizer,\n",
    "    \"wrapped_optimizer_parameters\": {\n",
    "                                     'l2_norm_clip':5.0,\n",
    "                                     'noise_multiplier': 1,\n",
    "                                     'num_microbatches': None,\n",
    "                                     'ledger': ledger,\n",
    "                                    }\n",
    "}\n",
    "\n",
    "logRegressionModel = MeanFieldMultiDimensionalLogisticRegression(current_params, hyperparameters)"
   ]
  },
  {
   "cell_type": "code",
   "execution_count": 18,
   "metadata": {},
   "outputs": [
    {
     "name": "stderr",
     "output_type": "stream",
     "text": [
      "/Users/msharma/workspace/DP-PVI/src/utils/torch_nest_utils.py:19: UserWarning: To copy construct from a tensor, it is recommended to use sourceTensor.clone().detach() or sourceTensor.clone().detach().requires_grad_(True), rather than torch.tensor(sourceTensor).\n",
      "  group_grads.append(operation(*ps))\n"
     ]
    },
    {
     "data": {
      "image/png": "[encoded data removed]",
      "text/plain": [
       "<Figure size 432x288 with 1 Axes>"
      ]
     },
     "metadata": {
      "needs_background": "light"
     },
     "output_type": "display_data"
    }
   ],
   "source": [
    "opt_params = logRegressionModel.fit(data, t, prior_params, hyperparameters)\n",
    "opt_params = logRegressionModel.fit(data, t, prior_params, hyperparameters)\n",
    "plot_training(logRegressionModel._training_curves[0])"
   ]
  },
  {
   "cell_type": "code",
   "execution_count": 10,
   "metadata": {},
   "outputs": [
    {
     "data": {
      "image/png": "[encoded data removed]",
      "text/plain": [
       "<Figure size 432x288 with 1 Axes>"
      ]
     },
     "metadata": {
      "needs_background": "light"
     },
     "output_type": "display_data"
    }
   ],
   "source": [
    "plot_training(logRegressionModel._training_curves[1])"
   ]
  },
  {
   "cell_type": "code",
   "execution_count": 11,
   "metadata": {},
   "outputs": [
    {
     "name": "stdout",
     "output_type": "stream",
     "text": [
      "{'w_nat_mean': array([0.0617266 , 0.03901657], dtype=float32), 'w_pres': array([0.20099731, 0.13564356], dtype=float32)}\n"
     ]
    },
    {
     "data": {
      "image/png": "[encoded data removed]",
      "text/plain": [
       "<Figure size 432x288 with 1 Axes>"
      ]
     },
     "metadata": {
      "needs_background": "light"
     },
     "output_type": "display_data"
    }
   ],
   "source": [
    "print(opt_params)\n",
    "plot_results(data_x, data_y, opt_params)"
   ]
  },
  {
   "cell_type": "code",
   "execution_count": 15,
   "metadata": {},
   "outputs": [],
   "source": [
    "import src.utils.numpy_nest_utils as np_nest\n",
    "\n",
    "np_nest.structured_ndarrays_to_lists(logRegressionModel.get_incremental_log_record())"
   ]
  },
  {
   "cell_type": "code",
   "execution_count": 21,
   "metadata": {},
   "outputs": [
    {
     "data": {
      "text/plain": [
       "[array([16.585289  , 18.50127411, 16.4605999 , 18.42732811, 16.47747231,\n",
       "        15.21245861, 15.91738224, 16.04097748, 15.65413094, 16.18267632]),\n",
       " array([16.91222954, 19.98900223, 16.02263832, 18.2553463 , 17.9519558 ,\n",
       "        16.35995483, 15.82911301, 16.78815842, 13.14764595, 16.29333115])]"
      ]
     },
     "execution_count": 21,
     "metadata": {},
     "output_type": "execute_result"
    }
   ],
   "source": [
    "logRegressionModel._training_curves"
   ]
  },
  {
   "cell_type": "markdown",
   "metadata": {},
   "source": [
    "## How private are we?\n",
    "\n",
    "Let's compute an $(\\epsilon, \\delta)$ guarantee. It is required that $\\delta << \\frac{1}{N} = 0.1$, let's choose $\\delta = 10^{-3}$"
   ]
  },
  {
   "cell_type": "code",
   "execution_count": 13,
   "metadata": {},
   "outputs": [],
   "source": [
    "eps, delta = compute_privacy_loss_from_ledger(ledger.get_formatted_ledger(), 1e-3)"
   ]
  },
  {
   "cell_type": "code",
   "execution_count": 14,
   "metadata": {},
   "outputs": [],
   "source": [
    "print(eps)"
   ]
  },
  {
   "cell_type": "code",
   "execution_count": 42,
   "metadata": {},
   "outputs": [],
   "source": [
    "import numpy as np\n",
    "import collections\n",
    "import numbers\n",
    "\n",
    "def structured_lists_to_lists(l):\n",
    "    ret = []\n",
    "    for x in l:\n",
    "        if isinstance(x, list):\n",
    "            ret.append(structured_lists_to_lists(x))\n",
    "        elif isinstance(x, dict):\n",
    "            ret.append(structured_ndarrays_to_lists(x))\n",
    "        elif isinstance(x, np.ndarray):\n",
    "            if x.size == 1:\n",
    "                ret.append(x.tolist()[0])\n",
    "            else:\n",
    "                ret.append(x.tolist())\n",
    "        elif isinstance(x, numbers.Number):\n",
    "            ret.append(x)\n",
    "    return ret\n",
    "\n",
    "\n",
    "def structured_ndarrays_to_lists(d):\n",
    "    ret = {}\n",
    "    for k, v in d.items():\n",
    "        if isinstance(v, collections.MutableMapping):\n",
    "            ret[k] = structured_ndarrays_to_lists(v)\n",
    "        elif isinstance(v, np.ndarray):\n",
    "            if v.size == 1:\n",
    "                l = v.tolist()\n",
    "                ret[k] = l[0]\n",
    "            else:\n",
    "                ret[k] = v.tolist()\n",
    "        elif isinstance(v, list):\n",
    "            # bit of a hack - assume that the list is fine!\n",
    "            ret[k] = structured_lists_to_lists(v)\n",
    "\n",
    "    return ret\n"
   ]
  },
  {
   "cell_type": "markdown",
   "metadata": {},
   "source": [
    "Given no optimisation has been performed for privacy performance, and the total lack of subsampling, this incredibly weak privacy guarantee is not so surpising. "
   ]
  },
  {
   "cell_type": "code",
   "execution_count": 43,
   "metadata": {},
   "outputs": [],
   "source": [
    "ret = {\n",
    "            \"derived_statistics\": logRegressionModel._derived_statistics_histories,\n",
    "            \"training_curve\": logRegressionModel._training_curves,\n",
    "        }"
   ]
  },
  {
   "cell_type": "code",
   "execution_count": 44,
   "metadata": {},
   "outputs": [
    {
     "data": {
      "text/plain": [
       "{'derived_statistics': [[{'l2_norm:': [1.6456085443496704,\n",
       "     0.8083175420761108,\n",
       "     0.6330007314682007,\n",
       "     0.6330007314682007,\n",
       "     0.2877309322357178,\n",
       "     0.9147729873657227,\n",
       "     1.8789128065109253,\n",
       "     0.7201851606369019,\n",
       "     0.7201851606369019,\n",
       "     0.32201439142227173]},\n",
       "   {'l2_norm:': [1.9123196601867676,\n",
       "     0.9366877675056458,\n",
       "     0.7706707119941711,\n",
       "     0.7635372281074524,\n",
       "     0.3436761200428009,\n",
       "     0.8809979557991028,\n",
       "     1.7950687408447266,\n",
       "     0.7318972945213318,\n",
       "     0.7249066829681396,\n",
       "     0.3303099274635315]},\n",
       "   {'l2_norm:': [1.5523715019226074,\n",
       "     0.7592354416847229,\n",
       "     0.6054748296737671,\n",
       "     0.6139677166938782,\n",
       "     0.28870025277137756,\n",
       "     0.9474360942840576,\n",
       "     1.9465135335922241,\n",
       "     0.7580381035804749,\n",
       "     0.7694591283798218,\n",
       "     0.3540652394294739]},\n",
       "   {'l2_norm:': [1.648261308670044,\n",
       "     0.8076342344284058,\n",
       "     0.666602611541748,\n",
       "     0.6722961068153381,\n",
       "     0.31775152683258057,\n",
       "     1.009526252746582,\n",
       "     2.0728886127471924,\n",
       "     0.8439496159553528,\n",
       "     0.8543055653572083,\n",
       "     0.4002766013145447]},\n",
       "   {'l2_norm:': [1.6660383939743042,\n",
       "     0.8098543286323547,\n",
       "     0.6674334406852722,\n",
       "     0.6542378664016724,\n",
       "     0.3138519525527954,\n",
       "     0.8892975449562073,\n",
       "     1.8153009414672852,\n",
       "     0.7401012182235718,\n",
       "     0.7269481420516968,\n",
       "     0.34765157103538513]},\n",
       "   {'l2_norm:': [1.6618354320526123,\n",
       "     0.8129346966743469,\n",
       "     0.6681438684463501,\n",
       "     0.6561583280563354,\n",
       "     0.3218171000480652,\n",
       "     0.7842927575111389,\n",
       "     1.6103389263153076,\n",
       "     0.6372287273406982,\n",
       "     0.6243072748184204,\n",
       "     0.31078845262527466]},\n",
       "   {'l2_norm:': [1.7922171354293823,\n",
       "     0.8713260293006897,\n",
       "     0.6991640329360962,\n",
       "     0.730450451374054,\n",
       "     0.34355664253234863,\n",
       "     0.7809661626815796,\n",
       "     1.5960478782653809,\n",
       "     0.6201655864715576,\n",
       "     0.6453306674957275,\n",
       "     0.3104974329471588]},\n",
       "   {'l2_norm:': [1.4748727083206177,\n",
       "     0.7231815457344055,\n",
       "     0.5884103178977966,\n",
       "     0.5935280919075012,\n",
       "     0.2948548495769501,\n",
       "     0.904923141002655,\n",
       "     1.857817530632019,\n",
       "     0.7387069463729858,\n",
       "     0.7497890591621399,\n",
       "     0.36218005418777466]},\n",
       "   {'l2_norm:': [1.46656334400177,\n",
       "     0.713156521320343,\n",
       "     0.5702008008956909,\n",
       "     0.5758515000343323,\n",
       "     0.2894552946090698,\n",
       "     0.902864396572113,\n",
       "     1.8599618673324585,\n",
       "     0.742694616317749,\n",
       "     0.7629182934761047,\n",
       "     0.37046995759010315]},\n",
       "   {'l2_norm:': [1.8451555967330933,\n",
       "     0.8945949077606201,\n",
       "     0.7253445386886597,\n",
       "     0.7484280467033386,\n",
       "     0.3513438105583191,\n",
       "     0.7799003720283508,\n",
       "     1.6042450666427612,\n",
       "     0.6332067251205444,\n",
       "     0.6522075533866882,\n",
       "     0.314257949590683]}],\n",
       "  [{'l2_norm:': [1.66628897190094,\n",
       "     0.8214470148086548,\n",
       "     0.6424712538719177,\n",
       "     0.6424712538719177,\n",
       "     0.2909693717956543,\n",
       "     0.9159829020500183,\n",
       "     1.8961260318756104,\n",
       "     0.7273074388504028,\n",
       "     0.7273074388504028,\n",
       "     0.3269260823726654]},\n",
       "   {'l2_norm:': [2.0905098915100098,\n",
       "     1.030407190322876,\n",
       "     0.8563650250434875,\n",
       "     0.8692141175270081,\n",
       "     0.386394202709198,\n",
       "     0.8857790231704712,\n",
       "     1.8125728368759155,\n",
       "     0.7189265489578247,\n",
       "     0.729649007320404,\n",
       "     0.32386308908462524]},\n",
       "   {'l2_norm:': [1.9497759342193604,\n",
       "     0.9376525282859802,\n",
       "     0.7379837036132812,\n",
       "     0.7487582564353943,\n",
       "     0.33972620964050293,\n",
       "     0.7563377022743225,\n",
       "     1.5442473888397217,\n",
       "     0.5918390154838562,\n",
       "     0.5993208885192871,\n",
       "     0.2811989486217499]},\n",
       "   {'l2_norm:': [2.177666425704956,\n",
       "     1.0701357126235962,\n",
       "     0.9274946451187134,\n",
       "     0.8994598984718323,\n",
       "     0.4208836853504181,\n",
       "     0.7249906659126282,\n",
       "     1.4938565492630005,\n",
       "     0.5942426919937134,\n",
       "     0.5720865726470947,\n",
       "     0.2782212793827057]},\n",
       "   {'l2_norm:': [1.823738694190979,\n",
       "     0.8863793611526489,\n",
       "     0.763620138168335,\n",
       "     0.7172717452049255,\n",
       "     0.3367658257484436,\n",
       "     0.9082017540931702,\n",
       "     1.8469446897506714,\n",
       "     0.7842462062835693,\n",
       "     0.7380915284156799,\n",
       "     0.3497406244277954]},\n",
       "   {'l2_norm:': [2.078657388687134,\n",
       "     1.0138150453567505,\n",
       "     0.8900193572044373,\n",
       "     0.8240165114402771,\n",
       "     0.3900343179702759,\n",
       "     0.659692108631134,\n",
       "     1.3201020956039429,\n",
       "     0.5588146448135376,\n",
       "     0.52293461561203,\n",
       "     0.2698715031147003]},\n",
       "   {'l2_norm:': [1.8515477180480957,\n",
       "     0.9063745737075806,\n",
       "     0.8082274794578552,\n",
       "     0.7110173106193542,\n",
       "     0.3438607454299927,\n",
       "     0.7405917048454285,\n",
       "     1.5119497776031494,\n",
       "     0.6423180103302002,\n",
       "     0.5704061388969421,\n",
       "     0.29235023260116577]},\n",
       "   {'l2_norm:': [1.517811894416809,\n",
       "     0.7475643157958984,\n",
       "     0.6627246141433716,\n",
       "     0.5720553994178772,\n",
       "     0.2888243794441223,\n",
       "     0.9560942053794861,\n",
       "     1.9572811126708984,\n",
       "     0.8652083277702332,\n",
       "     0.742266058921814,\n",
       "     0.3639086186885834]},\n",
       "   {'l2_norm:': [1.663625955581665,\n",
       "     0.7929872870445251,\n",
       "     0.6658057570457458,\n",
       "     0.5745974183082581,\n",
       "     0.3050437271595001,\n",
       "     0.6782599091529846,\n",
       "     1.3621282577514648,\n",
       "     0.6039975881576538,\n",
       "     0.5221209526062012,\n",
       "     0.2934817671775818]},\n",
       "   {'l2_norm:': [1.5172793865203857,\n",
       "     0.7430304884910583,\n",
       "     0.6640651226043701,\n",
       "     0.5562393665313721,\n",
       "     0.28453579545021057,\n",
       "     0.9415388107299805,\n",
       "     1.924338936805725,\n",
       "     0.8700783252716064,\n",
       "     0.7186633348464966,\n",
       "     0.3556128442287445]}]],\n",
       " 'training_curve': [[16.585289001464844,\n",
       "   18.50127410888672,\n",
       "   16.460599899291992,\n",
       "   18.42732810974121,\n",
       "   16.47747230529785,\n",
       "   15.212458610534668,\n",
       "   15.91738224029541,\n",
       "   16.040977478027344,\n",
       "   15.654130935668945,\n",
       "   16.182676315307617],\n",
       "  [16.912229537963867,\n",
       "   19.989002227783203,\n",
       "   16.02263832092285,\n",
       "   18.255346298217773,\n",
       "   17.951955795288086,\n",
       "   16.359954833984375,\n",
       "   15.829113006591797,\n",
       "   16.788158416748047,\n",
       "   13.147645950317383,\n",
       "   16.293331146240234]]}"
      ]
     },
     "execution_count": 44,
     "metadata": {},
     "output_type": "execute_result"
    }
   ],
   "source": [
    "structured_ndarrays_to_lists(ret)"
   ]
  },
  {
   "cell_type": "code",
   "execution_count": null,
   "metadata": {},
   "outputs": [],
   "source": []
  }
 ],
 "metadata": {
  "kernelspec": {
   "display_name": "Python 3",
   "language": "python",
   "name": "python3"
  },
  "language_info": {
   "codemirror_mode": {
    "name": "ipython",
    "version": 3
   },
   "file_extension": ".py",
   "mimetype": "text/x-python",
   "name": "python",
   "nbconvert_exporter": "python",
   "pygments_lexer": "ipython3",
   "version": "3.7.4"
  }
 },
 "nbformat": 4,
 "nbformat_minor": 4
}
