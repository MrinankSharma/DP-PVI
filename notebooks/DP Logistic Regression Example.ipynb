{
 "cells": [
  {
   "cell_type": "markdown",
   "metadata": {},
   "source": [
    "# Non-Private Centralized Logistic Regression"
   ]
  },
  {
   "cell_type": "code",
   "execution_count": 7,
   "metadata": {},
   "outputs": [],
   "source": [
    "# add files that we need!\n",
    "import os\n",
    "import sys\n",
    "import logging \n",
    "logger = logging.getLogger()\n",
    "\n",
    "module_path = os.path.abspath(os.path.join('..'))\n",
    "if module_path not in sys.path:\n",
    "    sys.path.append(module_path)"
   ]
  },
  {
   "cell_type": "code",
   "execution_count": 8,
   "metadata": {},
   "outputs": [],
   "source": [
    "from src.model.logistic_regression_models import MeanFieldMultiDimensionalLogisticRegression\n",
    "from src.privacy_accounting.optimizer.standard_optimizer import StandardOptimizer\n",
    "from src.privacy_accounting.analysis.moment_accountant import compute_privacy_loss_from_ledger\n",
    "\n",
    "\n",
    "import torch\n",
    "import torch.optim as optim\n",
    "\n",
    "import numpy as np\n",
    "\n",
    "import matplotlib.pyplot as plt\n",
    "import matplotlib as mpl\n",
    "mpl.rcParams['figure.dpi'] = 200\n",
    "\n",
    "# plotting\n",
    "%matplotlib inline"
   ]
  },
  {
   "cell_type": "code",
   "execution_count": 9,
   "metadata": {},
   "outputs": [],
   "source": [
    "prior_params = {\n",
    "    \"w_nat_mean\": np.array([0.0, 0.0], dtype=np.float64),\n",
    "    \"w_pres\": np.array([0.1, 0.1], dtype=np.float64) \n",
    "}\n",
    "\n",
    "# initally local likelihood is zero - init at the prior!\n",
    "current_params = prior_params \n",
    "\n",
    "hyperparameters = {\n",
    "    \"n_in\": 2,\n",
    "    \"N_samples\": 50,\n",
    "    \"N_steps\": 500,\n",
    "    \"base_optimizer_class\": optim.SGD,\n",
    "    \"base_optimizer_parameters\": {'lr': 0.02},\n",
    "    \"wrapped_optimizer_class\": StandardOptimizer,\n",
    "    \"wrapped_optimizer_parameters\": {},\n",
    "}\n",
    "\n",
    "logRegressionModel = MeanFieldMultiDimensionalLogisticRegression(current_params, hyperparameters)"
   ]
  },
  {
   "cell_type": "code",
   "execution_count": 10,
   "metadata": {},
   "outputs": [],
   "source": [
    "data_x = np.array([[2, 2], [1, 1], [0, 1], [1, 0], [-0.5, 0.1], \n",
    "                       [-1, -1], [-2, -2], [0, -1], [-1, 0],\n",
    "                       [0.5, 0.1]], dtype=np.float32)\n",
    "data_y = np.array([1, 1, 1, 1, 1, -1, -1, -1, -1, -1], dtype=np.float32)\n",
    "\n",
    "def plot_results(data_x, data_y, opt_params):\n",
    "    x_vals = data_x[:, 0]\n",
    "    y_vals = data_x[:, 1]\n",
    "    labels = data_y\n",
    "    plt.figure()\n",
    "    plt.grid(b=True)\n",
    "    plt.scatter(x_vals, y_vals, c = labels)\n",
    "\n",
    "    w_map = opt_params['w_nat_mean']/opt_params['w_pres']\n",
    "    plt.arrow(0, 0, w_map[0], w_map[1], head_width=0.1)\n",
    "    plt.plot([-2, 2], [(w_map[0]/w_map[1])*2, (w_map[0]/w_map[1])*-2])\n",
    "    plt.show()\n",
    "    \n",
    "def plot_training(training_array):\n",
    "    x_vals = np.arange(1, training_array.size+1)\n",
    "    plt.figure()\n",
    "    plt.plot(x_vals, training_array)\n",
    "    plt.ylabel('ELBO Loss')\n",
    "    plt.xlabel('Step')\n",
    "    plt.show()\n",
    "    \n",
    "data = {\n",
    "    \"x\": data_x,\n",
    "    \"y\": data_y,\n",
    "}\n",
    "\n",
    "t = {\n",
    "    \"w_nat_mean\": np.array([0, 0]),\n",
    "    \"w_pres\": np.array([0, 0]) \n",
    "}\n"
   ]
  },
  {
   "cell_type": "code",
   "execution_count": 11,
   "metadata": {},
   "outputs": [
    {
     "name": "stdout",
     "output_type": "stream",
     "text": [
      "Loss: 19.570 after 0 steps\n",
      "Loss: 7.135 after 25 steps\n",
      "Loss: 5.388 after 50 steps\n",
      "Loss: 5.281 after 75 steps\n",
      "Loss: 5.118 after 100 steps\n",
      "Loss: 4.913 after 125 steps\n",
      "Loss: 4.674 after 150 steps\n",
      "Loss: 4.921 after 175 steps\n",
      "Loss: 4.707 after 200 steps\n",
      "Loss: 4.795 after 225 steps\n",
      "Loss: 5.046 after 250 steps\n",
      "Loss: 4.744 after 275 steps\n",
      "Loss: 4.924 after 300 steps\n",
      "Loss: 4.590 after 325 steps\n",
      "Loss: 4.798 after 350 steps\n",
      "Loss: 4.732 after 375 steps\n",
      "Loss: 4.696 after 400 steps\n",
      "Loss: 4.823 after 425 steps\n",
      "Loss: 4.684 after 450 steps\n",
      "Loss: 5.054 after 475 steps\n"
     ]
    }
   ],
   "source": [
    "opt_params, training_curve = logRegressionModel.fit(data, t, prior_params, hyperparameters)"
   ]
  },
  {
   "cell_type": "code",
   "execution_count": 12,
   "metadata": {},
   "outputs": [
    {
     "data": {
      "image/png": "[encoded data removed]",
      "text/plain": [
       "<Figure size 432x288 with 1 Axes>"
      ]
     },
     "metadata": {
      "needs_background": "light"
     },
     "output_type": "display_data"
    }
   ],
   "source": [
    "plot_training(training_curve)"
   ]
  },
  {
   "cell_type": "code",
   "execution_count": 13,
   "metadata": {},
   "outputs": [
    {
     "name": "stdout",
     "output_type": "stream",
     "text": [
      "{'w_nat_mean': array([0.83085373, 1.31050303]), 'w_pres': array([0.69255472, 0.41175028])}\n"
     ]
    },
    {
     "data": {
      "image/png": "[encoded data removed]",
      "text/plain": [
       "<Figure size 432x288 with 1 Axes>"
      ]
     },
     "metadata": {
      "needs_background": "light"
     },
     "output_type": "display_data"
    }
   ],
   "source": [
    "print(opt_params)\n",
    "plot_results(data_x, data_y, opt_params)"
   ]
  },
  {
   "cell_type": "markdown",
   "metadata": {},
   "source": [
    "## Let's use DP-SGD Instead!"
   ]
  },
  {
   "cell_type": "code",
   "execution_count": 14,
   "metadata": {},
   "outputs": [],
   "source": [
    "from src.privacy_accounting.optimizer.dp_optimizer import DPGaussianOptimizer\n",
    "from src.privacy_accounting.analysis import PrivacyLedger\n",
    "\n",
    "ledger = PrivacyLedger(data_x.shape[0], 1)\n",
    "\n",
    "hyperparameters = {\n",
    "    \"n_in\": 2,\n",
    "    \"N_samples\": 100,\n",
    "    \"N_steps\": 1000,\n",
    "    \"base_optimizer_class\": optim.SGD,\n",
    "    \"base_optimizer_parameters\": {'lr': 0.01},\n",
    "    \"wrapped_optimizer_class\": DPGaussianOptimizer,\n",
    "    \"wrapped_optimizer_parameters\": {\n",
    "                                     'l2_norm_clip':5.0,\n",
    "                                     'noise_multiplier': 1,\n",
    "                                     'num_microbatches': None,\n",
    "                                     'ledger': ledger,\n",
    "                                    }\n",
    "}\n",
    "\n",
    "logRegressionModel = MeanFieldMultiDimensionalLogisticRegression(current_params, hyperparameters)"
   ]
  },
  {
   "cell_type": "code",
   "execution_count": 15,
   "metadata": {},
   "outputs": [
    {
     "name": "stderr",
     "output_type": "stream",
     "text": [
      "/Users/msharma/workspace/DP-PVI/src/utils/torch_nest_utils.py:20: UserWarning: To copy construct from a tensor, it is recommended to use sourceTensor.clone().detach() or sourceTensor.clone().detach().requires_grad_(True), rather than torch.tensor(sourceTensor).\n",
      "  group_grads.append(operation(*ps))\n"
     ]
    },
    {
     "name": "stdout",
     "output_type": "stream",
     "text": [
      "Loss: 17.224 after 0 steps\n",
      "Loss: 6.468 after 50 steps\n",
      "Loss: 6.483 after 100 steps\n",
      "Loss: 5.350 after 150 steps\n",
      "Loss: 5.109 after 200 steps\n",
      "Loss: 5.005 after 250 steps\n",
      "Loss: 5.482 after 300 steps\n",
      "Loss: 5.303 after 350 steps\n",
      "Loss: 5.409 after 400 steps\n",
      "Loss: 5.216 after 450 steps\n",
      "Loss: 5.503 after 500 steps\n",
      "Loss: 5.446 after 550 steps\n",
      "Loss: 5.203 after 600 steps\n",
      "Loss: 5.277 after 650 steps\n",
      "Loss: 5.149 after 700 steps\n",
      "Loss: 5.344 after 750 steps\n",
      "Loss: 5.003 after 800 steps\n",
      "Loss: 4.754 after 850 steps\n",
      "Loss: 4.773 after 900 steps\n",
      "Loss: 4.963 after 950 steps\n"
     ]
    },
    {
     "data": {
      "image/png": "[encoded data removed]",
      "text/plain": [
       "<Figure size 432x288 with 1 Axes>"
      ]
     },
     "metadata": {
      "needs_background": "light"
     },
     "output_type": "display_data"
    }
   ],
   "source": [
    "opt_params, training_curve = logRegressionModel.fit(data, t, prior_params, hyperparameters)\n",
    "plot_training(training_curve)"
   ]
  },
  {
   "cell_type": "code",
   "execution_count": 16,
   "metadata": {},
   "outputs": [
    {
     "name": "stdout",
     "output_type": "stream",
     "text": [
      "{'w_nat_mean': array([0.53711098, 1.12288506]), 'w_pres': array([0.43024587, 0.26505963])}\n"
     ]
    },
    {
     "data": {
      "image/png": "[encoded data removed]",
      "text/plain": [
       "<Figure size 432x288 with 1 Axes>"
      ]
     },
     "metadata": {
      "needs_background": "light"
     },
     "output_type": "display_data"
    }
   ],
   "source": [
    "print(opt_params)\n",
    "plot_results(data_x, data_y, opt_params)"
   ]
  },
  {
   "cell_type": "markdown",
   "metadata": {},
   "source": [
    "## How private are we?\n",
    "\n",
    "Let's compute an $(\\epsilon, \\delta)$ guarantee. It is required that $\\delta << \\frac{1}{N} = 0.1$, let's choose $\\delta = 10^{-3}$"
   ]
  },
  {
   "cell_type": "code",
   "execution_count": 17,
   "metadata": {},
   "outputs": [],
   "source": [
    "eps, delta = compute_privacy_loss_from_ledger(ledger.get_formatted_ledger(), 1e-3)"
   ]
  },
  {
   "cell_type": "code",
   "execution_count": 18,
   "metadata": {},
   "outputs": [
    {
     "name": "stdout",
     "output_type": "stream",
     "text": [
      "1006.9077552789821\n"
     ]
    }
   ],
   "source": [
    "print(eps)"
   ]
  },
  {
   "cell_type": "markdown",
   "metadata": {},
   "source": [
    "Given no optimisation has been performed for privacy performance, and the total lack of subsampling, this incredibly weak privacy guarantee is not so surpising. "
   ]
  }
 ],
 "metadata": {
  "kernelspec": {
   "display_name": "Python 3",
   "language": "python",
   "name": "python3"
  },
  "language_info": {
   "codemirror_mode": {
    "name": "ipython",
    "version": 3
   },
   "file_extension": ".py",
   "mimetype": "text/x-python",
   "name": "python",
   "nbconvert_exporter": "python",
   "pygments_lexer": "ipython3",
   "version": "3.7.4"
  }
 },
 "nbformat": 4,
 "nbformat_minor": 4
}
