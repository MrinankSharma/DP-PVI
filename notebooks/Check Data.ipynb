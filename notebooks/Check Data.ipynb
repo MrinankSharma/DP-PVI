{
 "cells": [
  {
   "cell_type": "code",
   "execution_count": 1,
   "metadata": {},
   "outputs": [],
   "source": [
    "import numpy as np\n",
    "import pickle\n",
    "import sys"
   ]
  },
  {
   "cell_type": "code",
   "execution_count": 2,
   "metadata": {},
   "outputs": [],
   "source": [
    "with open(\"/Users/msharma/workspace/DPVI-code/uai17-code/logistic/abalone/data/aba.p\", \"rb\") as file:\n",
    "    data = pickle.load(file, encoding='latin1')\n",
    "    \n",
    "np.set_printoptions(threshold=sys.maxsize)"
   ]
  },
  {
   "cell_type": "code",
   "execution_count": 6,
   "metadata": {},
   "outputs": [
    {
     "name": "stdout",
     "output_type": "stream",
     "text": [
      "[[ 1.15434629 -0.57455813 -0.43214879 -1.06442415 -0.64189823 -0.60768536\n",
      "  -0.72621157 -0.63821689]\n",
      " [ 1.15434629 -1.44898585 -1.439929   -1.18397831 -1.23027711 -1.17090984\n",
      "  -1.20522124 -1.21298732]\n",
      " [-0.05379815  0.05003309  0.12213032 -0.10799087 -0.30946926 -0.4634999\n",
      "  -0.35668983 -0.20713907]\n",
      " [ 1.15434629 -0.69947638 -0.43214879 -0.34709919 -0.63781934 -0.64823753\n",
      "  -0.60759966 -0.60229374]\n",
      " [-1.26194258 -1.61554351 -1.54070702 -1.42308663 -1.27208566 -1.2159678\n",
      "  -1.28733718 -1.32075677]]\n",
      "[1 0 0 1 0]\n",
      "(4177, 8)\n"
     ]
    }
   ],
   "source": [
    "y = data[0]\n",
    "x = data[1]\n",
    "print(x[0:5, :])\n",
    "print(y[0:5])\n",
    "print(x.shape)"
   ]
  },
  {
   "cell_type": "markdown",
   "metadata": {},
   "source": [
    "`-5.745581331424136629e-01,-4.321487936470637115e-01,-1.064424146726695719e+00,-6.418982280024725373e-01,-6.076853645006242699e-01,-7.262115735818162054e-01,-6.382168891980077863e-01,1.151980110023283377e+00`"
   ]
  },
  {
   "cell_type": "code",
   "execution_count": 32,
   "metadata": {},
   "outputs": [
    {
     "name": "stdout",
     "output_type": "stream",
     "text": [
      "[ 2.57129460e-16 -4.23872891e-15 -1.38928052e-14  2.49190182e-14\n",
      " -4.96333748e-15  4.60015608e-15 -2.83852424e-15  8.18646616e-16]\n",
      "[1. 1. 1. 1. 1. 1. 1. 1.]\n"
     ]
    }
   ],
   "source": [
    "print(np.mean(x, axis=0))\n",
    "print(np.std(x, axis=0))"
   ]
  },
  {
   "cell_type": "code",
   "execution_count": 5,
   "metadata": {},
   "outputs": [
    {
     "name": "stdout",
     "output_type": "stream",
     "text": [
      "[ 0.03067056  2.15057856 -1.06361075 -0.33543693  1.13473876  0.92163395\n",
      " -1.3178091  -0.27780504  0.39366753  0.70307135  0.1484529  -0.21665953\n",
      " -0.03542945  0.29156857]\n",
      "[-1.00278429e-17 -4.28599074e-16 -1.15574213e-16 -1.54437645e-16\n",
      "  3.24491584e-16  2.81613265e-16  2.28894634e-16  4.26236172e-16\n",
      "  1.17145731e-15  5.71992794e-16  7.13712366e-17 -1.53672174e-15\n",
      " -4.31311041e-16  1.00490510e-15]\n",
      "[1. 1. 1. 1. 1. 1. 1. 1. 1. 1. 1. 1. 1. 1.]\n",
      "[0. 0. 0. 0. 0. 0. 0. 1. 1. 1.]\n"
     ]
    }
   ],
   "source": [
    "with open(\"/Users/msharma/workspace/DPVI-code/uai17-code/logistic/adult/data/adult.p\", \"rb\") as file:\n",
    "    data = pickle.load(file, encoding='latin1')\n",
    "\n",
    "y = data[0]\n",
    "x = data[1]\n",
    "print(x[0, :])\n",
    "print(np.mean(x, axis=0))\n",
    "print(np.std(x, axis=0))\n",
    "print(y[:10])"
   ]
  },
  {
   "cell_type": "code",
   "execution_count": 36,
   "metadata": {},
   "outputs": [],
   "source": [
    "with open(\"/Users/msharma/workspace/DPVI-code/uai17-code/logistic/abalone/data/abalone_ndp.p\", \"rb\") as file:\n",
    "    data = pickle.load(file, encoding='latin1')"
   ]
  },
  {
   "cell_type": "code",
   "execution_count": 37,
   "metadata": {},
   "outputs": [
    {
     "name": "stdout",
     "output_type": "stream",
     "text": [
      "[0.7667464114832536]\n"
     ]
    }
   ],
   "source": [
    "print(data)"
   ]
  },
  {
   "cell_type": "code",
   "execution_count": 39,
   "metadata": {},
   "outputs": [
    {
     "data": {
      "text/plain": [
       "array([ 0.03067056,  2.15057856, -1.06361075, -0.33543693,  1.13473876,\n",
       "        0.92163395, -1.3178091 , -0.27780504,  0.39366753,  0.70307135,\n",
       "        0.1484529 , -0.21665953, -0.03542945,  0.29156857])"
      ]
     },
     "execution_count": 39,
     "metadata": {},
     "output_type": "execute_result"
    }
   ],
   "source": [
    "x[0, :]"
   ]
  },
  {
   "cell_type": "code",
   "execution_count": null,
   "metadata": {},
   "outputs": [],
   "source": []
  }
 ],
 "metadata": {
  "kernelspec": {
   "display_name": "Python 3",
   "language": "python",
   "name": "python3"
  },
  "language_info": {
   "codemirror_mode": {
    "name": "ipython",
    "version": 3
   },
   "file_extension": ".py",
   "mimetype": "text/x-python",
   "name": "python",
   "nbconvert_exporter": "python",
   "pygments_lexer": "ipython3",
   "version": "3.7.4"
  }
 },
 "nbformat": 4,
 "nbformat_minor": 4
}
